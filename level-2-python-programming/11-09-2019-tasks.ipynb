{
 "cells": [
  {
   "cell_type": "markdown",
   "metadata": {},
   "source": [
    "# 11-09-2019 Tasks"
   ]
  },
  {
   "cell_type": "markdown",
   "metadata": {},
   "source": [
    "### Question-1\n",
    "### Prime Number: \n",
    "### need to print the series of all prime numbers till N\n",
    "##### Input Format:\n",
    "##### 10\n",
    "##### Output Format:\n",
    "##### 2 3 5 7"
   ]
  },
  {
   "cell_type": "code",
   "execution_count": 1,
   "metadata": {},
   "outputs": [
    {
     "name": "stdout",
     "output_type": "stream",
     "text": [
      "10\n",
      "2 3 5 7 "
     ]
    }
   ],
   "source": [
    "n = int(input())\n",
    "for i in range(2,n):\n",
    "    flag = 1\n",
    "    for j in range(2,i):\n",
    "        if (i % j) == 0:\n",
    "            flag = 0\n",
    "            break\n",
    "    if flag == 1:\n",
    "        print(i,end=' ')"
   ]
  },
  {
   "cell_type": "markdown",
   "metadata": {},
   "source": [
    "### Question-2:\n",
    "### Count Divisors: \n",
    "### You have been given 3 integers - l, r and k. Find how many numbers between l and r (both inclusive) are divisible by k.\n",
    "###### Input Format:\n",
    "###### 1 10 1\n",
    "###### Output Format:\n",
    "###### 10"
   ]
  },
  {
   "cell_type": "code",
   "execution_count": 2,
   "metadata": {},
   "outputs": [
    {
     "name": "stdout",
     "output_type": "stream",
     "text": [
      "1 10 1\n",
      "10\n"
     ]
    }
   ],
   "source": [
    "l,r,k = map(int,input().split())\n",
    "count = 0\n",
    "for i in range(l,r+1):\n",
    "    if i % k == 0:\n",
    "        count += 1\n",
    "print(count)"
   ]
  },
  {
   "cell_type": "markdown",
   "metadata": {},
   "source": [
    "### Question-3:\n",
    "### Word Frequency: \n",
    "### need to print words with frequency from given sentence (string) in dictionary format\n",
    "###### Input Format:\n",
    "###### ravi ramu balu ravi raghu\n",
    "###### Output Format:\n",
    "###### {“ravi”:2, “ramu”:1, “balu”:1, “raghu”:1}"
   ]
  },
  {
   "cell_type": "code",
   "execution_count": 3,
   "metadata": {},
   "outputs": [
    {
     "name": "stdout",
     "output_type": "stream",
     "text": [
      "ravi ramu balu ravi raghu\n",
      "{'ravi': 2, 'ramu': 1, 'balu': 1, 'raghu': 1}\n"
     ]
    }
   ],
   "source": [
    "list1 = input().split()\n",
    "dict1 = {}\n",
    "for word in list1:\n",
    "    dict1[word] = dict1.get(word,0)+1\n",
    "print(dict1)"
   ]
  }
 ],
 "metadata": {
  "kernelspec": {
   "display_name": "Python 3",
   "language": "python",
   "name": "python3"
  },
  "language_info": {
   "codemirror_mode": {
    "name": "ipython",
    "version": 3
   },
   "file_extension": ".py",
   "mimetype": "text/x-python",
   "name": "python",
   "nbconvert_exporter": "python",
   "pygments_lexer": "ipython3",
   "version": "3.7.3"
  }
 },
 "nbformat": 4,
 "nbformat_minor": 2
}
