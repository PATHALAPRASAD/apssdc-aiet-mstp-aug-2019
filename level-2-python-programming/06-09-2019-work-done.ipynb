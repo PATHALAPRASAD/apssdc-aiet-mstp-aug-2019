{
 "cells": [
  {
   "cell_type": "markdown",
   "metadata": {},
   "source": [
    "# Control Statements"
   ]
  },
  {
   "cell_type": "markdown",
   "metadata": {},
   "source": [
    "## Simple if"
   ]
  },
  {
   "cell_type": "code",
   "execution_count": 1,
   "metadata": {},
   "outputs": [],
   "source": [
    "# Syntax of if statement\n",
    "# if condition:\n",
    "#     statements"
   ]
  },
  {
   "cell_type": "code",
   "execution_count": 2,
   "metadata": {},
   "outputs": [
    {
     "name": "stdout",
     "output_type": "stream",
     "text": [
      "the given number is zero\n"
     ]
    }
   ],
   "source": [
    "num = 0\n",
    "if num < 0:\n",
    "    print(num, 'is negative number')\n",
    "elif num > 0:\n",
    "    print(num, 'is positive number')\n",
    "else:\n",
    "    print('the given number is zero')"
   ]
  },
  {
   "cell_type": "markdown",
   "metadata": {},
   "source": [
    "## input function"
   ]
  },
  {
   "cell_type": "code",
   "execution_count": 3,
   "metadata": {},
   "outputs": [
    {
     "name": "stdout",
     "output_type": "stream",
     "text": [
      "enter a value : 10\n",
      "10 <class 'str'>\n"
     ]
    }
   ],
   "source": [
    "a = input('enter a value : ')\n",
    "print(a,type(a))"
   ]
  },
  {
   "cell_type": "code",
   "execution_count": 4,
   "metadata": {},
   "outputs": [
    {
     "name": "stdout",
     "output_type": "stream",
     "text": [
      "enter a value : 10\n",
      "enter b value : 20\n",
      "addition of 10 and 20 is 30\n",
      "addition of 10 and 20 is 30\n"
     ]
    }
   ],
   "source": [
    "a = int(input('enter a value : '))\n",
    "b = int(input('enter b value : '))\n",
    "print('addition of', a, 'and', b, 'is', a+b)\n",
    "print('addition of {} and {} is {}'.format(a,b,a+b))"
   ]
  },
  {
   "cell_type": "code",
   "execution_count": 5,
   "metadata": {},
   "outputs": [
    {
     "name": "stdout",
     "output_type": "stream",
     "text": [
      "23\n",
      "23 is positive number\n"
     ]
    }
   ],
   "source": [
    "num = int(input())\n",
    "if num < 0:\n",
    "    print('{} is negative number'.format(num))\n",
    "elif num > 0:\n",
    "    print('{} is positive number'.format(num))\n",
    "else:\n",
    "    print('the given number is zero')"
   ]
  },
  {
   "cell_type": "code",
   "execution_count": 6,
   "metadata": {},
   "outputs": [
    {
     "name": "stdout",
     "output_type": "stream",
     "text": [
      "enter first number = 23\n",
      "enter second number = 12\n",
      "23 is large number.\n"
     ]
    }
   ],
   "source": [
    "n1 = int(input('enter first number = '))\n",
    "n2 = int(input('enter second number = '))\n",
    "if n1 > n2:\n",
    "    print('{} is large number.'.format(n1))\n",
    "elif n2 > n1:\n",
    "    print('{} is large number.'.format(n2))\n",
    "else:\n",
    "    print('two are equal numbers')"
   ]
  },
  {
   "cell_type": "markdown",
   "metadata": {},
   "source": [
    "# Largest of three numbers"
   ]
  },
  {
   "cell_type": "code",
   "execution_count": 7,
   "metadata": {},
   "outputs": [
    {
     "name": "stdout",
     "output_type": "stream",
     "text": [
      "enter first number = 34\n",
      "enter second number = 12\n",
      "enter third number = 32\n",
      "34 is big.\n"
     ]
    }
   ],
   "source": [
    "a = int(input('enter first number = '))\n",
    "b = int(input('enter second number = '))\n",
    "c = int(input('enter third number = '))\n",
    "if a > b and a > c:\n",
    "    print('{} is big.'.format(a))\n",
    "elif b > c:\n",
    "    print('{} is big.'.format(b))\n",
    "else:\n",
    "    print('{} is big.'.format(c))"
   ]
  },
  {
   "cell_type": "markdown",
   "metadata": {},
   "source": [
    "### Write a python program to find the given number (N) is existed in the given range or not"
   ]
  },
  {
   "cell_type": "code",
   "execution_count": 8,
   "metadata": {},
   "outputs": [
    {
     "name": "stdout",
     "output_type": "stream",
     "text": [
      "enter lower boundary number = 10\n",
      "enter upper boundary number = 20\n",
      "enter value of N = 15\n",
      "15 is existed in the given range(10, 20)\n"
     ]
    }
   ],
   "source": [
    "lb = int(input('enter lower boundary number = '))\n",
    "ub = int(input('enter upper boundary number = '))\n",
    "N  = int(input('enter value of N = '))\n",
    "if N > lb and N < ub:\n",
    "    print('{} is existed in the given range({}, {})'.format(N, lb, ub))\n",
    "else:\n",
    "    print('{} is not existed in the given range({}, {})'.format(N, lb, ub))"
   ]
  },
  {
   "cell_type": "markdown",
   "metadata": {},
   "source": [
    "# for loop"
   ]
  },
  {
   "cell_type": "markdown",
   "metadata": {},
   "source": [
    "## for syntax\n",
    "### for temp_var in sequence:\n",
    "        statements"
   ]
  },
  {
   "cell_type": "code",
   "execution_count": 9,
   "metadata": {},
   "outputs": [
    {
     "name": "stdout",
     "output_type": "stream",
     "text": [
      "1\n",
      "2\n",
      "3\n",
      "4\n"
     ]
    }
   ],
   "source": [
    "for num in 1, 2, 3, 4:\n",
    "    print(num)"
   ]
  },
  {
   "cell_type": "code",
   "execution_count": 10,
   "metadata": {},
   "outputs": [
    {
     "name": "stdout",
     "output_type": "stream",
     "text": [
      "0\n",
      "1\n",
      "2\n",
      "3\n",
      "4\n"
     ]
    }
   ],
   "source": [
    "for num in range(5):\n",
    "    print(num)"
   ]
  },
  {
   "cell_type": "code",
   "execution_count": 11,
   "metadata": {},
   "outputs": [
    {
     "name": "stdout",
     "output_type": "stream",
     "text": [
      "1\n",
      "2\n",
      "3\n",
      "4\n"
     ]
    }
   ],
   "source": [
    "for num in range(1,5):\n",
    "    print(num)"
   ]
  },
  {
   "cell_type": "code",
   "execution_count": 12,
   "metadata": {},
   "outputs": [
    {
     "name": "stdout",
     "output_type": "stream",
     "text": [
      "1\n",
      "3\n",
      "5\n",
      "7\n",
      "9\n"
     ]
    }
   ],
   "source": [
    "for num in range(1,10,2):\n",
    "    print(num)"
   ]
  },
  {
   "cell_type": "code",
   "execution_count": 13,
   "metadata": {},
   "outputs": [
    {
     "name": "stdout",
     "output_type": "stream",
     "text": [
      "enter range = 10\n",
      "1\n",
      "2\n",
      "3\n",
      "4\n",
      "5\n",
      "6\n",
      "7\n",
      "8\n",
      "9\n",
      "10\n"
     ]
    }
   ],
   "source": [
    "r = int(input('enter range = '))\n",
    "for num in range(1, r+1):\n",
    "    print(num)"
   ]
  },
  {
   "cell_type": "code",
   "execution_count": 14,
   "metadata": {},
   "outputs": [
    {
     "name": "stdout",
     "output_type": "stream",
     "text": [
      "5\n",
      "4\n",
      "3\n",
      "2\n",
      "1\n"
     ]
    }
   ],
   "source": [
    "for num in range(5,0,-1):\n",
    "    print(num)"
   ]
  },
  {
   "cell_type": "markdown",
   "metadata": {},
   "source": [
    "# range function\n",
    "## Syntax\n",
    "### range(start, end, step)"
   ]
  },
  {
   "cell_type": "code",
   "execution_count": 15,
   "metadata": {},
   "outputs": [
    {
     "name": "stdout",
     "output_type": "stream",
     "text": [
      "sum of 1 to 10 numbers : 55\n"
     ]
    }
   ],
   "source": [
    "sum = 0\n",
    "for num in range(1,11):\n",
    "    sum += num\n",
    "print('sum of 1 to 10 numbers : {}'.format(sum))"
   ]
  },
  {
   "cell_type": "markdown",
   "metadata": {},
   "source": [
    "## print the table of given number 2 * 1 = 2"
   ]
  },
  {
   "cell_type": "code",
   "execution_count": 16,
   "metadata": {},
   "outputs": [
    {
     "name": "stdout",
     "output_type": "stream",
     "text": [
      "Enter which table you want to print : 2\n",
      "2 * 1 = 2\n",
      "2 * 2 = 4\n",
      "2 * 3 = 6\n",
      "2 * 4 = 8\n",
      "2 * 5 = 10\n",
      "2 * 6 = 12\n",
      "2 * 7 = 14\n",
      "2 * 8 = 16\n",
      "2 * 9 = 18\n",
      "2 * 10 = 20\n"
     ]
    }
   ],
   "source": [
    "n = int(input('Enter which table you want to print : '))\n",
    "for i in range(1, 11):\n",
    "    print('{} * {} = {}'.format(n, i, n*i))"
   ]
  },
  {
   "cell_type": "code",
   "execution_count": 17,
   "metadata": {},
   "outputs": [
    {
     "name": "stdout",
     "output_type": "stream",
     "text": [
      "avanthi"
     ]
    }
   ],
   "source": [
    "name = 'avanthi'\n",
    "for char in name:\n",
    "    print(char,end='')"
   ]
  },
  {
   "cell_type": "markdown",
   "metadata": {},
   "source": [
    "# break"
   ]
  },
  {
   "cell_type": "code",
   "execution_count": 18,
   "metadata": {},
   "outputs": [
    {
     "name": "stdout",
     "output_type": "stream",
     "text": [
      "avan"
     ]
    }
   ],
   "source": [
    "name = 'avanthi'\n",
    "for char in name:\n",
    "    if char == 't':\n",
    "        break\n",
    "    print(char,end='')"
   ]
  },
  {
   "cell_type": "markdown",
   "metadata": {},
   "source": [
    "# continue"
   ]
  },
  {
   "cell_type": "code",
   "execution_count": 19,
   "metadata": {},
   "outputs": [
    {
     "name": "stdout",
     "output_type": "stream",
     "text": [
      "avanhi"
     ]
    }
   ],
   "source": [
    "name = 'avanthi'\n",
    "for char in name:\n",
    "    if char == 't':\n",
    "        continue\n",
    "    print(char,end='')"
   ]
  },
  {
   "cell_type": "markdown",
   "metadata": {},
   "source": [
    "# while"
   ]
  },
  {
   "cell_type": "markdown",
   "metadata": {},
   "source": [
    "## while syntax"
   ]
  },
  {
   "cell_type": "markdown",
   "metadata": {},
   "source": [
    "### while condition:\n",
    "        statements"
   ]
  },
  {
   "cell_type": "code",
   "execution_count": 20,
   "metadata": {},
   "outputs": [
    {
     "name": "stdout",
     "output_type": "stream",
     "text": [
      "1\n",
      "2\n",
      "3\n",
      "4\n",
      "5\n"
     ]
    }
   ],
   "source": [
    "# print 1 to 5 numbers using while loop\n",
    "i = 1\n",
    "while i <= 5:\n",
    "    print(i)\n",
    "    i += 1"
   ]
  },
  {
   "cell_type": "markdown",
   "metadata": {},
   "source": [
    "## python program to factorial of given number"
   ]
  },
  {
   "cell_type": "code",
   "execution_count": 21,
   "metadata": {},
   "outputs": [
    {
     "name": "stdout",
     "output_type": "stream",
     "text": [
      "Enter value of n : 7\n",
      "Factorial of 7 is (7!) = 5040\n"
     ]
    }
   ],
   "source": [
    "n = int(input(\"Enter value of n : \"))\n",
    "i = 1\n",
    "f = 1\n",
    "while i <= n:\n",
    "    f *= i\n",
    "    i += 1\n",
    "print('Factorial of {} is ({}!) = {}'.format(n, n, f))"
   ]
  }
 ],
 "metadata": {
  "kernelspec": {
   "display_name": "Python 3",
   "language": "python",
   "name": "python3"
  },
  "language_info": {
   "codemirror_mode": {
    "name": "ipython",
    "version": 3
   },
   "file_extension": ".py",
   "mimetype": "text/x-python",
   "name": "python",
   "nbconvert_exporter": "python",
   "pygments_lexer": "ipython3",
   "version": "3.7.3"
  }
 },
 "nbformat": 4,
 "nbformat_minor": 2
}
