{
 "cells": [
  {
   "cell_type": "markdown",
   "metadata": {},
   "source": [
    "# Question-1: Write a Python Program to largest of three given numbers (using input statement)"
   ]
  },
  {
   "cell_type": "code",
   "execution_count": 1,
   "metadata": {
    "scrolled": true
   },
   "outputs": [
    {
     "name": "stdout",
     "output_type": "stream",
     "text": [
      "A = 31\n",
      "B = 75\n",
      "C = 21\n",
      "Largest Number is 75\n"
     ]
    }
   ],
   "source": [
    "A = int(input('A = '))\n",
    "B = int(input('B = '))\n",
    "C = int(input('C = '))\n",
    "if(A>B and A>C):\n",
    "    print('Largest Number is {}'.format(A))\n",
    "elif(B>C):\n",
    "    print('Largest Number is {}'.format(B))\n",
    "else:\n",
    "    print('Largest Number is {}'.format(C))"
   ]
  },
  {
   "cell_type": "markdown",
   "metadata": {},
   "source": [
    "# Question -2: Write a python program to find the given number(N) in given range(lower bound-upper bound)"
   ]
  },
  {
   "cell_type": "code",
   "execution_count": 2,
   "metadata": {},
   "outputs": [
    {
     "name": "stdout",
     "output_type": "stream",
     "text": [
      "Enter Lower bound number: 10\n",
      "Enter Upper bound number: 20\n",
      "Enter N: 15\n",
      "given number is exist\n"
     ]
    }
   ],
   "source": [
    "lb = int(input('Enter Lower bound number: '))\n",
    "ub = int(input('Enter Upper bound number: '))\n",
    "N  = int(input('Enter N: '))\n",
    "if(N>=lb and N<ub):\n",
    "    print('given number is exist')"
   ]
  }
 ],
 "metadata": {
  "kernelspec": {
   "display_name": "Python 3",
   "language": "python",
   "name": "python3"
  },
  "language_info": {
   "codemirror_mode": {
    "name": "ipython",
    "version": 3
   },
   "file_extension": ".py",
   "mimetype": "text/x-python",
   "name": "python",
   "nbconvert_exporter": "python",
   "pygments_lexer": "ipython3",
   "version": "3.7.3"
  }
 },
 "nbformat": 4,
 "nbformat_minor": 2
}
